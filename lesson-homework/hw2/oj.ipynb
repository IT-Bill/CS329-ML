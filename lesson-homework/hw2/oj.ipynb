{
 "cells": [
  {
   "cell_type": "code",
   "execution_count": 7,
   "metadata": {},
   "outputs": [],
   "source": [
    "from ucimlrepo import fetch_ucirepo \n",
    "import numpy as np\n",
    "import pandas as pd"
   ]
  },
  {
   "cell_type": "code",
   "execution_count": null,
   "metadata": {},
   "outputs": [],
   "source": [
    "\n",
    "\n",
    "\n"
   ]
  },
  {
   "cell_type": "code",
   "execution_count": 10,
   "metadata": {},
   "outputs": [],
   "source": [
    "X_train = [[9.397, 21.68, 59.75, 268.8, 0.07969], [27.42, 26.27, 186.9, 2501.0, 0.1084], [13.68, 16.33, 87.76, 575.5, 0.09277], [13.68, 16.33, 87.76, 575.5, 0.09277], [13.68, 16.33, 87.76, 575.5, 0.09277], [13.68, 16.33, 87.76, 575.5, 0.09277], [13.68, 16.33, 87.76, 575.5, 0.09277], [13.68, 16.33, 87.76, 575.5, 0.09277], [13.68, 16.33, 87.76, 575.5, 0.09277]]\n",
    "y_train = [1, 0, 1, 1, 1, 1, 1, 1, 1]\n",
    "x = [[14.19, 23.81, 92.87, 610.7, 0.09463]]\n",
    "\n",
    "X_train = np.array(X_train)\n",
    "y_train = np.array(y_train)\n",
    "x = np.array(x)"
   ]
  },
  {
   "cell_type": "code",
   "execution_count": 11,
   "metadata": {},
   "outputs": [
    {
     "data": {
      "text/plain": [
       "array([1.18020054e+05, 3.58225682e+06, 1.32136260e+03, 1.32136260e+03,\n",
       "       1.32136260e+03, 1.32136260e+03, 1.32136260e+03, 1.32136260e+03,\n",
       "       1.32136260e+03])"
      ]
     },
     "execution_count": 11,
     "metadata": {},
     "output_type": "execute_result"
    }
   ],
   "source": [
    "distances = np.sum(np.power(X_train - x, 2), axis=1)\n",
    "distances"
   ]
  },
  {
   "cell_type": "code",
   "execution_count": 13,
   "metadata": {},
   "outputs": [
    {
     "data": {
      "text/plain": [
       "array([2, 3, 4], dtype=int64)"
      ]
     },
     "execution_count": 13,
     "metadata": {},
     "output_type": "execute_result"
    }
   ],
   "source": [
    "k_indices = np.argsort(distances)[:3]\n",
    "k_indices"
   ]
  },
  {
   "cell_type": "code",
   "execution_count": 14,
   "metadata": {},
   "outputs": [
    {
     "data": {
      "text/plain": [
       "array([1, 1, 1])"
      ]
     },
     "execution_count": 14,
     "metadata": {},
     "output_type": "execute_result"
    }
   ],
   "source": [
    "k_nearest_labels = y_train[k_indices]\n",
    "k_nearest_labels"
   ]
  },
  {
   "cell_type": "code",
   "execution_count": 17,
   "metadata": {},
   "outputs": [
    {
     "data": {
      "text/plain": [
       "array([0, 3], dtype=int64)"
      ]
     },
     "execution_count": 17,
     "metadata": {},
     "output_type": "execute_result"
    }
   ],
   "source": [
    "np.bincount(k_nearest_labels)"
   ]
  },
  {
   "cell_type": "code",
   "execution_count": 18,
   "metadata": {},
   "outputs": [
    {
     "data": {
      "text/plain": [
       "1"
      ]
     },
     "execution_count": 18,
     "metadata": {},
     "output_type": "execute_result"
    }
   ],
   "source": [
    "np.argmax(np.bincount(k_nearest_labels))"
   ]
  }
 ],
 "metadata": {
  "kernelspec": {
   "display_name": "CS329-ML",
   "language": "python",
   "name": "python3"
  },
  "language_info": {
   "codemirror_mode": {
    "name": "ipython",
    "version": 3
   },
   "file_extension": ".py",
   "mimetype": "text/x-python",
   "name": "python",
   "nbconvert_exporter": "python",
   "pygments_lexer": "ipython3",
   "version": "3.9.18"
  }
 },
 "nbformat": 4,
 "nbformat_minor": 2
}
