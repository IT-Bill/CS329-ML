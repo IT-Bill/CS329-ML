{
 "cells": [
  {
   "cell_type": "code",
   "execution_count": 25,
   "metadata": {},
   "outputs": [
    {
     "name": "stdout",
     "output_type": "stream",
     "text": [
      "[0.02565  0.085725]\n",
      "alpha:\n",
      "[[0.4      0.204    0.02565 ]\n",
      " [0.05     0.0195   0.085725]]\n",
      "beta:\n",
      "[[0.258  0.48   1.    ]\n",
      " [0.1635 0.69   1.    ]]\n",
      "p_X:\n",
      "0.11137500000000002\n"
     ]
    }
   ],
   "source": [
    "import numpy as np\n",
    "\n",
    "# 给定的转移矩阵 A 和发射矩阵 B\n",
    "A = np.array([[0.6, 0.3], \n",
    "              [0.4, 0.7]]).T\n",
    "B = np.array([[0.8, 0.1], \n",
    "              [0.2, 0.9]]).T\n",
    "\n",
    "# 观测序列编码，'up' 编码为 0，'down' 编码为 1\n",
    "observations = np.array([0, 0, 1])\n",
    "# observations = np.array([1, 1, 0])\n",
    "\n",
    "# 初始概率分布 Pi\n",
    "Pi = np.array([0.5, 0.5])\n",
    "\n",
    "\n",
    "# 前向算法\n",
    "def forward(obs_seq, Pi, A, B):\n",
    "    N = len(obs_seq)\n",
    "    S = A.shape[0]\n",
    "    alpha = np.zeros((S, N))\n",
    "    alpha[:, 0] = Pi * B[:, obs_seq[0]]\n",
    "\n",
    "    for t in range(1, N):\n",
    "        for s in range(S):\n",
    "            alpha[s, t] = np.dot(alpha[:, t - 1], A[:, s]) * B[s, obs_seq[t]]\n",
    "    return alpha\n",
    "\n",
    "\n",
    "# 后向算法\n",
    "def backward(obs_seq, A, B):\n",
    "    N = len(obs_seq)\n",
    "    S = A.shape[0]\n",
    "    beta = np.zeros((S, N))\n",
    "    beta[:, -1] = 1\n",
    "\n",
    "    for t in range(N - 2, -1, -1):\n",
    "        for s in range(S):\n",
    "            beta[s, t] = np.sum(beta[:, t + 1] * A[s, :] * B[:, obs_seq[t + 1]])\n",
    "    return beta\n",
    "\n",
    "\n",
    "# 执行前向和后向算法\n",
    "alpha = forward(observations, Pi, A, B)\n",
    "beta = backward(observations, A, B)\n",
    "\n",
    "# 计算 p(z1,z2|X, θ)\n",
    "# 我们需要计算给定观测序列条件下的z1和z2的联合概率。这可以通过结合前向概率alpha和后向概率beta来实现。\n",
    "\n",
    "# 计算 p(X) 为所有alpha在最后时间点的和 p(x1, x2, x3)\n",
    "p_X = np.sum(alpha[:, -1])\n",
    "print(\"alpha:\")\n",
    "print(alpha)\n",
    "print(\"beta:\")\n",
    "print(beta)\n",
    "print(\"p_X:\")\n",
    "print(p_X)"
   ]
  },
  {
   "cell_type": "code",
   "execution_count": 26,
   "metadata": {},
   "outputs": [
    {
     "data": {
      "text/plain": [
       "array([[0.82747475, 0.09912458],\n",
       "       [0.05171717, 0.0216835 ]])"
      ]
     },
     "execution_count": 26,
     "metadata": {},
     "output_type": "execute_result"
    }
   ],
   "source": [
    "# 对于每一对状态 (z1, z2) 计算联合概率\n",
    "p_z1_z2_given_X = np.zeros((2, 2))\n",
    "for z1 in range(2):\n",
    "    for z2 in range(2):\n",
    "        p_z1_z2_given_X[z1, z2] = (\n",
    "            alpha[z1, 0] * A[z1, z2] * B[z2, observations[1]] * beta[z2, 1]\n",
    "        )\n",
    "\n",
    "# 归一化概率\n",
    "p_z1_z2_given_X /= p_X\n",
    "\n",
    "p_z1_z2_given_X"
   ]
  },
  {
   "cell_type": "code",
   "execution_count": 28,
   "metadata": {},
   "outputs": [
    {
     "data": {
      "text/plain": [
       "array([[0.21979798, 0.65939394],\n",
       "       [0.01050505, 0.11030303]])"
      ]
     },
     "execution_count": 28,
     "metadata": {},
     "output_type": "execute_result"
    }
   ],
   "source": [
    "# To calculate P(z2, z3|X, θ), we will use the forward probabilities up to z2\n",
    "# and the backward probabilities starting from z3, along with the transition\n",
    "# and emission probabilities for z3. We do not need to consider z1 for this calculation.\n",
    "\n",
    "# Initialize the joint probability matrix for z2 and z3\n",
    "joint_prob_z2_z3 = np.zeros((2, 2))\n",
    "\n",
    "# Calculate the joint probability for each combination of states for z2 and z3\n",
    "for z2 in range(2):  # Possible states for z2\n",
    "    for z3 in range(2):  # Possible states for z3\n",
    "        # The joint probability is the product of:\n",
    "        # - the forward probability of z2\n",
    "        # - the transition probability from z2 to z3\n",
    "        # - the emission probability of the observation at time 3 given z3\n",
    "        # - the backward probability of z3\n",
    "        joint_prob_z2_z3[z2, z3] = (\n",
    "            alpha[z2, 1] * A[z2, z3] * B[z3, observations[2]] * beta[z3, 2]\n",
    "        )\n",
    "\n",
    "# We again normalize the joint probabilities by the total probability of the observations P(X)\n",
    "conditional_prob_z2_z3 = joint_prob_z2_z3 / p_X\n",
    "\n",
    "conditional_prob_z2_z3\n"
   ]
  }
 ],
 "metadata": {
  "kernelspec": {
   "display_name": "CS329-ML",
   "language": "python",
   "name": "python3"
  },
  "language_info": {
   "codemirror_mode": {
    "name": "ipython",
    "version": 3
   },
   "file_extension": ".py",
   "mimetype": "text/x-python",
   "name": "python",
   "nbconvert_exporter": "python",
   "pygments_lexer": "ipython3",
   "version": "3.9.18"
  }
 },
 "nbformat": 4,
 "nbformat_minor": 2
}
